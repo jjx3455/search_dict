{
 "cells": [
  {
   "cell_type": "code",
   "execution_count": 8,
   "id": "b3b4d6e2-9ee0-4be4-a6d4-333c8246fbb8",
   "metadata": {},
   "outputs": [],
   "source": [
    "PATH_TO_GERMAN_AUTOMATON = 'data/german_automaton.pkl'\n",
    "PATH_TO_ENGLISH_AUTOMATON = 'data/english_automaton.pkl'\n",
    "AUTOMATON_PATH_DICTIONARY ={\n",
    "    'en': PATH_TO_ENGLISH_AUTOMATON,\n",
    "    'de': PATH_TO_GERMAN_AUTOMATON\n",
    "}"
   ]
  },
  {
   "cell_type": "code",
   "execution_count": 54,
   "id": "d2549c32-7224-4f0d-81f3-fbcb22ccf8a0",
   "metadata": {},
   "outputs": [],
   "source": [
    "import pickle\n",
    "\n",
    "\n",
    "class LanguageChecker:\n",
    "    def __init__(self, automaton_path_dictionary: dict):\n",
    "        self.automaton_path_dictionary = automaton_path_dictionary\n",
    "        \n",
    "    def _load_automaton(self, path_to_automaton: str):\n",
    "        with open(path_to_automaton, \"rb\") as input_file:\n",
    "            automaton = pickle.load(input_file)\n",
    "        return automaton\n",
    "    \n",
    "    def filter_words(self, a_string_to_check: str, a_language: str):\n",
    "        assert a_language in self.automaton_path_dictionary.keys(), 'no automaton is available in this language.'\n",
    "        path_to_automaton = self.automaton_path_dictionary[a_language]\n",
    "        automaton = self._load_automaton(path_to_automaton)\n",
    "        normalized_string = self._string_normalization(a_string_to_check)\n",
    "        words_to_keep = []\n",
    "        for _, (_, original_value) in automaton.iter(normalized_string):\n",
    "            splitted_normalized_string = normalized_string.split()\n",
    "            if original_value in splitted_normalized_string:\n",
    "                words_to_keep.append(original_value)\n",
    "        return words_to_keep\n",
    "    \n",
    "    def is_language(self, a_string_to_check: str, a_language: str):\n",
    "        normalized_string = self._string_normalization(a_string_to_check)\n",
    "        words_to_keep = self.filter_words(normalized_string, a_language)\n",
    "        if len(words_to_keep) > 1:\n",
    "            return True\n",
    "        else:\n",
    "            return False\n",
    "    \n",
    "    def is_one_language(self, a_string_to_check: str, a_language: str):\n",
    "        normalized_string = self._string_normalization(a_string_to_check)\n",
    "        words_to_keep = self.filter_words(normalized_string, a_language)\n",
    "        if len(words_to_keep) == len(normalized_string.split(' ')):\n",
    "            return True\n",
    "        else:\n",
    "            return False\n",
    "    \n",
    "    @staticmethod\n",
    "    def _string_normalization(a_string_to_check: str):\n",
    "        normalization = filter(lambda x: x.isalnum() or x.isspace(), a_string_to_check)\n",
    "        normalized_string = \"\".join(normalization).lower()\n",
    "        normalized_string = \" \".join(normalized_string.split())\n",
    "        return normalized_string\n",
    "        \n",
    "        "
   ]
  },
  {
   "cell_type": "code",
   "execution_count": 55,
   "id": "6e75704c-844c-47c7-a5fc-dac888511987",
   "metadata": {},
   "outputs": [],
   "source": [
    "languagechecker = LanguageChecker(AUTOMATON_PATH_DICTIONARY)"
   ]
  },
  {
   "cell_type": "code",
   "execution_count": 56,
   "id": "d2dff5f2-515b-43cf-a554-13338e923125",
   "metadata": {},
   "outputs": [],
   "source": [
    "haystack = 'rOt balloon ;formAt Übersetzen   automatOn;'"
   ]
  },
  {
   "cell_type": "code",
   "execution_count": 57,
   "id": "0ff0eab2-0199-4e6a-9652-8e063c5319fd",
   "metadata": {},
   "outputs": [
    {
     "data": {
      "text/plain": [
       "'rot balloon format übersetzen automaton'"
      ]
     },
     "execution_count": 57,
     "metadata": {},
     "output_type": "execute_result"
    }
   ],
   "source": [
    "languagechecker._string_normalization(haystack)"
   ]
  },
  {
   "cell_type": "code",
   "execution_count": 58,
   "id": "3e19bae5-d860-4903-a91d-c48fdbac79f2",
   "metadata": {},
   "outputs": [
    {
     "data": {
      "text/plain": [
       "False"
      ]
     },
     "execution_count": 58,
     "metadata": {},
     "output_type": "execute_result"
    }
   ],
   "source": [
    "languagechecker.is_one_language(haystack, 'de')"
   ]
  },
  {
   "cell_type": "code",
   "execution_count": 59,
   "id": "0b1ac4d7-6774-4b68-9020-c57eb59378dc",
   "metadata": {},
   "outputs": [
    {
     "data": {
      "text/plain": [
       "True"
      ]
     },
     "execution_count": 59,
     "metadata": {},
     "output_type": "execute_result"
    }
   ],
   "source": [
    "languagechecker.is_language(haystack, 'en')"
   ]
  },
  {
   "cell_type": "code",
   "execution_count": 61,
   "id": "6911067a-dc08-4f5f-ae8b-fc735d8a229c",
   "metadata": {},
   "outputs": [
    {
     "data": {
      "text/plain": [
       "['rot', 'format', 'übersetzen']"
      ]
     },
     "execution_count": 61,
     "metadata": {},
     "output_type": "execute_result"
    }
   ],
   "source": [
    "languagechecker.filter_words(haystack, 'de')"
   ]
  },
  {
   "cell_type": "code",
   "execution_count": null,
   "id": "4c338801-fd83-49e8-bf9d-5722b5d5c142",
   "metadata": {},
   "outputs": [],
   "source": []
  }
 ],
 "metadata": {
  "kernelspec": {
   "display_name": "fast_search",
   "language": "python",
   "name": "fast_search"
  },
  "language_info": {
   "codemirror_mode": {
    "name": "ipython",
    "version": 3
   },
   "file_extension": ".py",
   "mimetype": "text/x-python",
   "name": "python",
   "nbconvert_exporter": "python",
   "pygments_lexer": "ipython3",
   "version": "3.8.16"
  }
 },
 "nbformat": 4,
 "nbformat_minor": 5
}
