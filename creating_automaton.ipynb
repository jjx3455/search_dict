{
 "cells": [
  {
   "cell_type": "code",
   "execution_count": 82,
   "id": "b1c8313f-d95e-47d5-9358-24f90779c81b",
   "metadata": {},
   "outputs": [],
   "source": [
    "import ahocorasick\n",
    "import json"
   ]
  },
  {
   "cell_type": "code",
   "execution_count": 90,
   "id": "0b21078e-2500-4c1e-93b8-f90069320a1c",
   "metadata": {},
   "outputs": [
    {
     "name": "stdout",
     "output_type": "stream",
     "text": [
      "en 77790\n",
      "de 84443\n"
     ]
    }
   ],
   "source": [
    "path_filtered_english_words = 'data/aspell_filtered_english_words.json'\n",
    "with open(path_filtered_english_words, 'r') as f:\n",
    "    list_english_words = json.load(f)\n",
    "    print('en', len(list_english_words))\n",
    "\n",
    "path_filtered_german_words = 'data/aspell_filtered_german_words.json'\n",
    "with open(path_filtered_german_words, 'r') as f:\n",
    "    list_german_words = json.load(f)\n",
    "    print('de', len(list_german_words))"
   ]
  },
  {
   "cell_type": "code",
   "execution_count": 91,
   "id": "f7fbf664-8626-492f-8c9a-02a99d6446fd",
   "metadata": {},
   "outputs": [],
   "source": [
    "english_automaton = ahocorasick.Automaton()\n",
    "german_automaton = ahocorasick.Automaton()"
   ]
  },
  {
   "cell_type": "code",
   "execution_count": 92,
   "id": "8b4c1eb8-73f0-4596-b6a2-d29fa6d78962",
   "metadata": {},
   "outputs": [],
   "source": [
    "for idx, key in enumerate(list_english_words):\n",
    "    english_automaton.add_word(key, (idx, key))"
   ]
  },
  {
   "cell_type": "code",
   "execution_count": 93,
   "id": "f2687eef-c078-44cf-a10f-aeb76800bc06",
   "metadata": {},
   "outputs": [],
   "source": [
    "for idx, key in enumerate(list_german_words):\n",
    "    german_automaton.add_word(key, (idx, key))"
   ]
  },
  {
   "cell_type": "code",
   "execution_count": 94,
   "id": "a9f84e42-2612-4612-8ba3-5f53280ef004",
   "metadata": {},
   "outputs": [
    {
     "data": {
      "text/plain": [
       "True"
      ]
     },
     "execution_count": 94,
     "metadata": {},
     "output_type": "execute_result"
    }
   ],
   "source": [
    "'bag' in english_automaton"
   ]
  },
  {
   "cell_type": "code",
   "execution_count": 95,
   "id": "af880e06-2531-45ac-85d9-c3a7ef97ff46",
   "metadata": {},
   "outputs": [
    {
     "data": {
      "text/plain": [
       "True"
      ]
     },
     "execution_count": 95,
     "metadata": {},
     "output_type": "execute_result"
    }
   ],
   "source": [
    "'nase' in german_automaton"
   ]
  },
  {
   "cell_type": "code",
   "execution_count": 96,
   "id": "7e567b83-84f1-4b1b-a613-91fbf5845816",
   "metadata": {},
   "outputs": [],
   "source": [
    "english_automaton.make_automaton()"
   ]
  },
  {
   "cell_type": "code",
   "execution_count": 97,
   "id": "6f782fff-0ca6-4422-b3bb-1cb594093787",
   "metadata": {},
   "outputs": [],
   "source": [
    "german_automaton.make_automaton()"
   ]
  },
  {
   "cell_type": "code",
   "execution_count": 98,
   "id": "011e9a08-1fe8-45a8-b1ae-1e750ef310c8",
   "metadata": {},
   "outputs": [],
   "source": [
    "haystack = 'Rot Balloon format übersetzen automaton'.lower()"
   ]
  },
  {
   "cell_type": "code",
   "execution_count": 99,
   "id": "aa423c1f-ce25-41f4-a40f-38f6e109692a",
   "metadata": {},
   "outputs": [
    {
     "data": {
      "text/plain": [
       "'rot balloon format übersetzen automaton'"
      ]
     },
     "execution_count": 99,
     "metadata": {},
     "output_type": "execute_result"
    }
   ],
   "source": [
    "haystack"
   ]
  },
  {
   "cell_type": "code",
   "execution_count": 100,
   "id": "9df1483a-8668-45bb-9648-613dc8b96ea5",
   "metadata": {},
   "outputs": [
    {
     "name": "stdout",
     "output_type": "stream",
     "text": [
      "['rot', 'balloon', 'format', 'automaton']\n"
     ]
    }
   ],
   "source": [
    "en_words_to_keep = []\n",
    "for _, (_, original_value) in english_automaton.iter(haystack):\n",
    "    splitted_haystack = haystack.split()\n",
    "    if original_value in splitted_haystack:\n",
    "        en_words_to_keep.append(original_value)\n",
    "print(en_words_to_keep)"
   ]
  },
  {
   "cell_type": "code",
   "execution_count": 101,
   "id": "c502ba32-96cd-41cd-86b9-983b6f359b17",
   "metadata": {},
   "outputs": [
    {
     "name": "stdout",
     "output_type": "stream",
     "text": [
      "['rot', 'format', 'übersetzen']\n"
     ]
    }
   ],
   "source": [
    "de_words_to_keep = []\n",
    "for _, (_, original_value) in german_automaton.iter(haystack):\n",
    "    splitted_haystack = haystack.split()\n",
    "    if original_value in splitted_haystack:\n",
    "        de_words_to_keep.append(original_value)\n",
    "print(de_words_to_keep)"
   ]
  },
  {
   "cell_type": "code",
   "execution_count": 102,
   "id": "e361af42-902e-4578-b84c-3886418a62fb",
   "metadata": {},
   "outputs": [],
   "source": [
    "import pickle\n",
    "path_to_english_automaton = 'data/english_automaton.pkl'\n",
    "\n",
    "with open(path_to_english_automaton, 'wb') as handle:\n",
    "    pickle.dump(english_automaton, handle, protocol=pickle.HIGHEST_PROTOCOL)"
   ]
  },
  {
   "cell_type": "code",
   "execution_count": 103,
   "id": "afde1446-d519-4145-a7f0-7fba52f3a200",
   "metadata": {},
   "outputs": [],
   "source": [
    "path_to_german_automaton = 'data/german_automaton.pkl'\n",
    "\n",
    "with open(path_to_german_automaton, 'wb') as handle:\n",
    "    pickle.dump(german_automaton, handle, protocol=pickle.HIGHEST_PROTOCOL)"
   ]
  },
  {
   "cell_type": "code",
   "execution_count": 104,
   "id": "955e8dc3-9348-4aeb-bbac-ac95715fbef9",
   "metadata": {},
   "outputs": [
    {
     "data": {
      "text/plain": [
       "'her'"
      ]
     },
     "execution_count": 104,
     "metadata": {},
     "output_type": "execute_result"
    }
   ],
   "source": [
    "list_english_words[22700]"
   ]
  },
  {
   "cell_type": "code",
   "execution_count": null,
   "id": "68c67688-0b90-44fc-899d-00f732a6f8c1",
   "metadata": {},
   "outputs": [],
   "source": []
  }
 ],
 "metadata": {
  "kernelspec": {
   "display_name": "fast_search",
   "language": "python",
   "name": "fast_search"
  },
  "language_info": {
   "codemirror_mode": {
    "name": "ipython",
    "version": 3
   },
   "file_extension": ".py",
   "mimetype": "text/x-python",
   "name": "python",
   "nbconvert_exporter": "python",
   "pygments_lexer": "ipython3",
   "version": "3.8.16"
  }
 },
 "nbformat": 4,
 "nbformat_minor": 5
}
