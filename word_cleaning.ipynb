{
 "cells": [
  {
   "cell_type": "code",
   "execution_count": 53,
   "id": "bee88292-340d-4b3c-96ad-4e3e366405ba",
   "metadata": {},
   "outputs": [],
   "source": [
    "import json\n",
    "import py7zr"
   ]
  },
  {
   "cell_type": "code",
   "execution_count": 54,
   "id": "21741787-f4a8-4830-902d-d2937b8d10fb",
   "metadata": {},
   "outputs": [],
   "source": [
    "path_english_words = 'data/aspell_english_words.txt'"
   ]
  },
  {
   "cell_type": "code",
   "execution_count": 55,
   "id": "08a27869-7896-446d-bc78-53dc916c2310",
   "metadata": {},
   "outputs": [],
   "source": [
    "file_english_words = open(path_english_words, 'r')"
   ]
  },
  {
   "cell_type": "code",
   "execution_count": 56,
   "id": "65bd0938-0768-4060-a73a-662a6778a039",
   "metadata": {},
   "outputs": [],
   "source": [
    "list_english_words = file_english_words.read()\n",
    "list_english_words = list_english_words.split('\\n')"
   ]
  },
  {
   "cell_type": "code",
   "execution_count": 57,
   "id": "52e5f3f9-ab1a-4f03-8762-5e75a28fea87",
   "metadata": {},
   "outputs": [],
   "source": [
    "def is_upper(a_word):\n",
    "    return any(map(str.isupper, a_word))\n",
    "\n",
    "def is_too_small(a_word):\n",
    "    return len(a_word) <= 2\n",
    "    "
   ]
  },
  {
   "cell_type": "code",
   "execution_count": 58,
   "id": "89b093df-2633-46e1-b2d5-fb8edbc2eab6",
   "metadata": {},
   "outputs": [],
   "source": [
    "def filter_words(a_list):\n",
    "    output_list = []\n",
    "    for a_word in a_list:\n",
    "        if not is_too_small(a_word):\n",
    "            if a_word.isalpha():\n",
    "                if not is_upper(a_word):\n",
    "                    output_list.append(a_word)\n",
    "    return output_list"
   ]
  },
  {
   "cell_type": "code",
   "execution_count": 59,
   "id": "b248acd0-31d3-4851-b648-8086c6e06387",
   "metadata": {},
   "outputs": [],
   "source": [
    "aspell_filtered_english_words = filter_words(list_english_words)"
   ]
  },
  {
   "cell_type": "code",
   "execution_count": 60,
   "id": "17a8d166-8fa4-4e29-bfa7-bf2bc0d7e5f3",
   "metadata": {},
   "outputs": [],
   "source": [
    "path_aspell_filtered_english_words = 'data/aspell_filtered_english_words.json'\n",
    "\n",
    "with open(path_aspell_filtered_english_words, 'w') as f:\n",
    "    json.dump(aspell_filtered_english_words, f, indent=2) \n",
    "\n",
    "with open(path_aspell_filtered_english_words, 'r') as f:\n",
    "    loaded_list_for_check = json.load(f)"
   ]
  },
  {
   "cell_type": "code",
   "execution_count": 61,
   "id": "825e1e87-d171-47cf-89a8-dc686df478e0",
   "metadata": {},
   "outputs": [],
   "source": [
    "path_german_words = 'data/aspell_german_words.txt'\n",
    "file_german_words = open(path_german_words, 'r')\n",
    "list_german_words = file_german_words.read()\n",
    "list_german_words = list_german_words.split('\\n')"
   ]
  },
  {
   "cell_type": "code",
   "execution_count": 62,
   "id": "0f06ee74-0394-4327-8a6e-5fdbf6df5956",
   "metadata": {},
   "outputs": [],
   "source": [
    "def filter_german_words(a_list):\n",
    "    output_list = []\n",
    "    for a_word in a_list:\n",
    "        a_word = a_word.split('/')[0]\n",
    "        if not is_too_small(a_word):\n",
    "            if a_word.isalpha():\n",
    "                output_list.append(a_word.lower())\n",
    "    return output_list"
   ]
  },
  {
   "cell_type": "code",
   "execution_count": 63,
   "id": "bb7716d0-ffc9-435a-b6e4-b5e54a27f807",
   "metadata": {},
   "outputs": [],
   "source": [
    "filtered_german_words = filter_german_words(list_german_words)"
   ]
  },
  {
   "cell_type": "code",
   "execution_count": 64,
   "id": "469ab4b9-84da-4e6d-b33d-fc1f239f158a",
   "metadata": {},
   "outputs": [
    {
     "name": "stdout",
     "output_type": "stream",
     "text": [
      "84443 84578\n"
     ]
    }
   ],
   "source": [
    "path_filtered_german_words = 'data/aspell_filtered_german_words.json'\n",
    "\n",
    "with open(path_filtered_german_words, 'w') as f:\n",
    "    json.dump(filtered_german_words, f, indent=2) \n",
    "\n",
    "with open(path_filtered_german_words, 'r') as f:\n",
    "    loaded_list_for_check = json.load(f)\n",
    "\n",
    "print(len(filtered_german_words), len(list_german_words))"
   ]
  },
  {
   "cell_type": "code",
   "execution_count": 66,
   "id": "a862f270-239d-40d4-acf4-89eca7c72a3d",
   "metadata": {},
   "outputs": [
    {
     "data": {
      "text/plain": [
       "True"
      ]
     },
     "execution_count": 66,
     "metadata": {},
     "output_type": "execute_result"
    }
   ],
   "source": [
    "'übersetzen' in filtered_german_words"
   ]
  },
  {
   "cell_type": "code",
   "execution_count": null,
   "id": "979b461a-ed1a-41ea-ab6e-10a470112d26",
   "metadata": {},
   "outputs": [],
   "source": []
  },
  {
   "cell_type": "code",
   "execution_count": null,
   "id": "3f473e30-8694-46c8-97f1-f46fdf824cfe",
   "metadata": {},
   "outputs": [],
   "source": []
  }
 ],
 "metadata": {
  "kernelspec": {
   "display_name": "fast_search",
   "language": "python",
   "name": "fast_search"
  },
  "language_info": {
   "codemirror_mode": {
    "name": "ipython",
    "version": 3
   },
   "file_extension": ".py",
   "mimetype": "text/x-python",
   "name": "python",
   "nbconvert_exporter": "python",
   "pygments_lexer": "ipython3",
   "version": "3.8.16"
  }
 },
 "nbformat": 4,
 "nbformat_minor": 5
}
